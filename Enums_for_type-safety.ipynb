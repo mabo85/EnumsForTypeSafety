{
 "cells": [
  {
   "cell_type": "markdown",
   "id": "ec1fb1d5-41a2-474f-9c43-4846f6e37dfb",
   "metadata": {
    "tags": []
   },
   "source": [
    "# Is a specific month part of a season?"
   ]
  },
  {
   "cell_type": "markdown",
   "id": "3486b253-0e33-43e7-8418-819b8075d34a",
   "metadata": {
    "tags": []
   },
   "source": [
    "## 1. Using `strings`"
   ]
  },
  {
   "cell_type": "code",
   "execution_count": 1,
   "id": "abd4177c-8834-4091-974c-9301afbfffef",
   "metadata": {},
   "outputs": [],
   "source": [
    "# defining a set of strings\n",
    "spring = {\"Mar\", \"Apr\", \"May\"}\n",
    "# summer = ..."
   ]
  },
  {
   "cell_type": "code",
   "execution_count": 2,
   "id": "64d0877a-a894-43c4-8c84-48047c2c9948",
   "metadata": {},
   "outputs": [
    {
     "data": {
      "text/plain": [
       "{'Apr', 'Mar', 'May'}"
      ]
     },
     "execution_count": 2,
     "metadata": {},
     "output_type": "execute_result"
    }
   ],
   "source": [
    "spring"
   ]
  },
  {
   "cell_type": "code",
   "execution_count": 3,
   "id": "5ff1f88b-9cb9-4251-a25e-000a4e23ec5d",
   "metadata": {},
   "outputs": [
    {
     "data": {
      "text/plain": [
       "True"
      ]
     },
     "execution_count": 3,
     "metadata": {},
     "output_type": "execute_result"
    }
   ],
   "source": [
    "\"Mar\" in spring"
   ]
  },
  {
   "cell_type": "code",
   "execution_count": 4,
   "id": "23ae3458-ff14-4e3a-aa52-d617f2c2cab7",
   "metadata": {},
   "outputs": [
    {
     "data": {
      "text/plain": [
       "False"
      ]
     },
     "execution_count": 4,
     "metadata": {},
     "output_type": "execute_result"
    }
   ],
   "source": [
    "\"Oct\" in spring"
   ]
  },
  {
   "cell_type": "markdown",
   "id": "f44e05fd-f741-4657-9fe9-448223bbecd3",
   "metadata": {},
   "source": [
    "**Advantage**\n",
    "- simple and easy\n",
    "\n",
    "**Disadvantage**\n",
    "- no type safety (here: everything is just a string)"
   ]
  },
  {
   "cell_type": "code",
   "execution_count": 5,
   "id": "16df66d7-6f78-4eec-a798-38fe9e9c286f",
   "metadata": {},
   "outputs": [
    {
     "data": {
      "text/plain": [
       "False"
      ]
     },
     "execution_count": 5,
     "metadata": {},
     "output_type": "execute_result"
    }
   ],
   "source": [
    "# notice the extra space after `Mar`\n",
    "\"Mar \" in spring"
   ]
  },
  {
   "cell_type": "code",
   "execution_count": 6,
   "id": "ab7d947d-95da-4b1a-b214-aa69ffef0c95",
   "metadata": {},
   "outputs": [
    {
     "data": {
      "text/plain": [
       "False"
      ]
     },
     "execution_count": 6,
     "metadata": {},
     "output_type": "execute_result"
    }
   ],
   "source": [
    "# neither working for different case as well\n",
    "\"MAR\" in spring"
   ]
  },
  {
   "cell_type": "markdown",
   "id": "a928453d-7e24-400d-9a04-07062812e3b2",
   "metadata": {},
   "source": [
    "Adding checks adds complexity to the code and is not good to read:"
   ]
  },
  {
   "cell_type": "code",
   "execution_count": 7,
   "id": "c88e59d0-a0d6-4086-b69a-da53a65338b3",
   "metadata": {},
   "outputs": [
    {
     "data": {
      "text/plain": [
       "True"
      ]
     },
     "execution_count": 7,
     "metadata": {},
     "output_type": "execute_result"
    }
   ],
   "source": [
    "\"MAR \".strip().lower() in {s.lower() for s in spring}"
   ]
  },
  {
   "cell_type": "markdown",
   "id": "08308d52-65f1-48da-822e-895e12ce8ba9",
   "metadata": {},
   "source": [
    "## 2. Using `Enums`"
   ]
  },
  {
   "cell_type": "code",
   "execution_count": 8,
   "id": "1762bbf5-2214-449e-9e24-74e43f8cc264",
   "metadata": {},
   "outputs": [],
   "source": [
    "from enum import Enum, auto"
   ]
  },
  {
   "cell_type": "code",
   "execution_count": 9,
   "id": "8b86a18a-8981-4bc9-908a-5963a7261047",
   "metadata": {},
   "outputs": [],
   "source": [
    "# defining the months in a class and inherit from `Enum`\n",
    "class Month(Enum):\n",
    "    JAN = auto() # == 1\n",
    "    FEB = auto() # == 2\n",
    "    MAR = auto() # == 3\n",
    "    APR = auto() # ...\n",
    "    MAY = auto()\n",
    "    JUN = auto()\n",
    "    JUL = auto()\n",
    "    AUG = auto()\n",
    "    SEP = auto()\n",
    "    OCT = auto()\n",
    "    NOV = auto()\n",
    "    DEC = auto() # == 12"
   ]
  },
  {
   "cell_type": "code",
   "execution_count": 10,
   "id": "9f9173cc-7fe7-4a79-9dde-3869b4d49494",
   "metadata": {},
   "outputs": [
    {
     "data": {
      "text/plain": [
       "<Month.MAR: 3>"
      ]
     },
     "execution_count": 10,
     "metadata": {},
     "output_type": "execute_result"
    }
   ],
   "source": [
    "Month.MAR"
   ]
  },
  {
   "cell_type": "code",
   "execution_count": 11,
   "id": "e897466e-f204-42d3-832b-e61115ef44ea",
   "metadata": {},
   "outputs": [
    {
     "data": {
      "text/plain": [
       "'MAR'"
      ]
     },
     "execution_count": 11,
     "metadata": {},
     "output_type": "execute_result"
    }
   ],
   "source": [
    "Month.MAR.name"
   ]
  },
  {
   "cell_type": "code",
   "execution_count": 12,
   "id": "e394ab9b-4c60-483f-b7d9-3af558b12a08",
   "metadata": {},
   "outputs": [
    {
     "data": {
      "text/plain": [
       "3"
      ]
     },
     "execution_count": 12,
     "metadata": {},
     "output_type": "execute_result"
    }
   ],
   "source": [
    "Month.MAR.value"
   ]
  },
  {
   "cell_type": "code",
   "execution_count": 13,
   "id": "e5acb041-1c53-4902-8865-55841f50b603",
   "metadata": {},
   "outputs": [],
   "source": [
    "# defining the seasons\n",
    "# notice: values are lists of the Enum-class `Month`\n",
    "class Season(Enum):\n",
    "    SPRING = [Month.MAR, Month.APR, Month.MAY]\n",
    "    SUMMER = [Month.JUN, Month.JUL, Month.AUG]\n",
    "    AUTUMN = [Month.SEP, Month.OCT, Month.NOV]\n",
    "    WINTER = [Month.DEC, Month.JAN, Month.FEB]"
   ]
  },
  {
   "cell_type": "code",
   "execution_count": 14,
   "id": "1cd70d60-8388-4e5f-a984-c71a82747ea8",
   "metadata": {},
   "outputs": [
    {
     "data": {
      "text/plain": [
       "<Season.SPRING: [<Month.MAR: 3>, <Month.APR: 4>, <Month.MAY: 5>]>"
      ]
     },
     "execution_count": 14,
     "metadata": {},
     "output_type": "execute_result"
    }
   ],
   "source": [
    "Season.SPRING"
   ]
  },
  {
   "cell_type": "code",
   "execution_count": 15,
   "id": "42842c37-4c32-4529-89b0-b34f19a8ceb8",
   "metadata": {},
   "outputs": [
    {
     "data": {
      "text/plain": [
       "'SPRING'"
      ]
     },
     "execution_count": 15,
     "metadata": {},
     "output_type": "execute_result"
    }
   ],
   "source": [
    "Season.SPRING.name"
   ]
  },
  {
   "cell_type": "code",
   "execution_count": 16,
   "id": "7d3d044f-3658-4f3d-91ac-4edf1333a181",
   "metadata": {},
   "outputs": [
    {
     "data": {
      "text/plain": [
       "[<Month.MAR: 3>, <Month.APR: 4>, <Month.MAY: 5>]"
      ]
     },
     "execution_count": 16,
     "metadata": {},
     "output_type": "execute_result"
    }
   ],
   "source": [
    "Season.SPRING.value"
   ]
  },
  {
   "cell_type": "code",
   "execution_count": 17,
   "id": "699c61ac-284e-483b-810a-7365a19a1c9d",
   "metadata": {},
   "outputs": [
    {
     "name": "stdout",
     "output_type": "stream",
     "text": [
      "<class 'enum.EnumMeta'>\n",
      "<enum 'Season'>\n",
      "<class 'str'>\n",
      "<class 'list'>\n"
     ]
    }
   ],
   "source": [
    "print(type(Season))\n",
    "print(type(Season.SPRING))\n",
    "print(type(Season.SPRING.name))\n",
    "print(type(Season.SPRING.value))"
   ]
  },
  {
   "cell_type": "code",
   "execution_count": 18,
   "id": "b7aac904-d091-4e66-a74c-389a0fafa45b",
   "metadata": {},
   "outputs": [
    {
     "data": {
      "text/plain": [
       "True"
      ]
     },
     "execution_count": 18,
     "metadata": {},
     "output_type": "execute_result"
    }
   ],
   "source": [
    "# similar to `\"Mar\" in spring` above\n",
    "Month.MAR in Season.SPRING.value"
   ]
  },
  {
   "cell_type": "code",
   "execution_count": 19,
   "id": "ec59048d-deb6-4492-a523-b1176839a31d",
   "metadata": {},
   "outputs": [
    {
     "data": {
      "text/plain": [
       "False"
      ]
     },
     "execution_count": 19,
     "metadata": {},
     "output_type": "execute_result"
    }
   ],
   "source": [
    "Month.OCT in Season.SPRING.value"
   ]
  },
  {
   "cell_type": "code",
   "execution_count": 20,
   "id": "1be1a1af-83e2-48ea-bf9d-d8c7ff0a153e",
   "metadata": {},
   "outputs": [
    {
     "data": {
      "text/plain": [
       "True"
      ]
     },
     "execution_count": 20,
     "metadata": {},
     "output_type": "execute_result"
    }
   ],
   "source": [
    "Month.OCT in Season.AUTUMN.value"
   ]
  },
  {
   "cell_type": "markdown",
   "id": "40ecb9ec-62b5-41d7-98d9-0f8bb0afac1e",
   "metadata": {},
   "source": [
    "**Advantage**\n",
    "- type-safety (here: a `Month`and a `Season` are their own types)\n",
    "- auto-completion in IDE's\n",
    "\n",
    "**Disadvantage**\n",
    "- none"
   ]
  },
  {
   "cell_type": "markdown",
   "id": "f2dd0444-5ca8-4f8d-9618-a88a79cb698d",
   "metadata": {},
   "source": [
    "`Enums` are very useful in the Python and Java programming language, as they can be iterated like an array/list. They can be used even \"in reverse\":"
   ]
  },
  {
   "cell_type": "code",
   "execution_count": 21,
   "id": "9bc5830c-007c-4776-aba8-c8ae8c5f7082",
   "metadata": {},
   "outputs": [
    {
     "data": {
      "text/plain": [
       "[<Month.MAR: 3>]"
      ]
     },
     "execution_count": 21,
     "metadata": {},
     "output_type": "execute_result"
    }
   ],
   "source": [
    "# what is the third month?\n",
    "idx = 3\n",
    "\n",
    "[m for m in Month if m.value == idx]"
   ]
  },
  {
   "cell_type": "code",
   "execution_count": 22,
   "id": "74369b02-6868-448c-a46e-efab02a6d489",
   "metadata": {},
   "outputs": [
    {
     "data": {
      "text/plain": [
       "<Month.MAR: 3>"
      ]
     },
     "execution_count": 22,
     "metadata": {},
     "output_type": "execute_result"
    }
   ],
   "source": [
    "# same as in line above without `list comprehension'\n",
    "idx = 3\n",
    "\n",
    "# values in Enum 'Month' are unique\n",
    "def getMonth(idx: int) -> Month:\n",
    "    for m in Month:\n",
    "        if m.value == idx:\n",
    "            return m\n",
    "\n",
    "getMonth(idx)"
   ]
  },
  {
   "cell_type": "markdown",
   "id": "f6c7bd5e-b9b4-4ffe-a650-04693b2a3173",
   "metadata": {},
   "source": [
    "---\n",
    "More informations on Enums in the [Python Documentation](https://docs.python.org/3/library/enum.html)"
   ]
  }
 ],
 "metadata": {
  "kernelspec": {
   "display_name": "Python 3 (ipykernel)",
   "language": "python",
   "name": "python3"
  },
  "language_info": {
   "codemirror_mode": {
    "name": "ipython",
    "version": 3
   },
   "file_extension": ".py",
   "mimetype": "text/x-python",
   "name": "python",
   "nbconvert_exporter": "python",
   "pygments_lexer": "ipython3",
   "version": "3.10.2"
  },
  "toc-autonumbering": false,
  "toc-showcode": false,
  "toc-showmarkdowntxt": false,
  "toc-showtags": false
 },
 "nbformat": 4,
 "nbformat_minor": 5
}
